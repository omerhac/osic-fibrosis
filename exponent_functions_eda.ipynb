{
  "nbformat": 4,
  "nbformat_minor": 0,
  "metadata": {
    "colab": {
      "name": "exponent_functions_eda.ipynb",
      "provenance": [],
      "authorship_tag": "ABX9TyPh6dPHsO8YLOR4Y7UpV5gC",
      "include_colab_link": true
    },
    "kernelspec": {
      "name": "python3",
      "display_name": "Python 3"
    },
    "accelerator": "GPU"
  },
  "cells": [
    {
      "cell_type": "markdown",
      "metadata": {
        "id": "view-in-github",
        "colab_type": "text"
      },
      "source": [
        "<a href=\"https://colab.research.google.com/github/omerhac/osic-fibrosis/blob/master/exponent_functions_eda.ipynb\" target=\"_parent\"><img src=\"https://colab.research.google.com/assets/colab-badge.svg\" alt=\"Open In Colab\"/></a>"
      ]
    },
    {
      "cell_type": "code",
      "metadata": {
        "id": "JeSJQsTK99Jc",
        "colab_type": "code",
        "colab": {}
      },
      "source": [
        "# imports \n",
        "import tensorflow as tf\n",
        "import numpy as np\n",
        "import matplotlib.pyplot as plt\n",
        "\n",
        "# images path\n",
        "IMAGES_GCS_PATH = 'gs://osic_fibrosis/images'"
      ],
      "execution_count": 1,
      "outputs": []
    },
    {
      "cell_type": "code",
      "metadata": {
        "id": "JyJdgXOMAb1G",
        "colab_type": "code",
        "colab": {
          "base_uri": "https://localhost:8080/",
          "height": 143
        },
        "outputId": "bdd01999-6bf0-4278-bbfc-2724ddfd8441"
      },
      "source": [
        "# clone and copy repository\n",
        "!git clone https://github.com/omerhac/osic-fibrosis.git\n",
        "!cp -r osic-fibrosis/* ./"
      ],
      "execution_count": 2,
      "outputs": [
        {
          "output_type": "stream",
          "text": [
            "Cloning into 'osic-fibrosis'...\n",
            "remote: Enumerating objects: 46, done.\u001b[K\n",
            "remote: Counting objects: 100% (46/46), done.\u001b[K\n",
            "remote: Compressing objects: 100% (36/36), done.\u001b[K\n",
            "remote: Total 414 (delta 22), reused 23 (delta 10), pack-reused 368\u001b[K\n",
            "Receiving objects: 100% (414/414), 55.92 MiB | 11.31 MiB/s, done.\n",
            "Resolving deltas: 100% (252/252), done.\n"
          ],
          "name": "stdout"
        }
      ]
    },
    {
      "cell_type": "markdown",
      "metadata": {
        "id": "z-EhCwsetnqC",
        "colab_type": "text"
      },
      "source": [
        "# Visualize prediction graphs"
      ]
    },
    {
      "cell_type": "code",
      "metadata": {
        "id": "QAARr54fFawR",
        "colab_type": "code",
        "colab": {}
      },
      "source": [
        "import table_data\n",
        "import predict \n",
        "import visualize\n",
        "\n",
        "exp_dict = table_data.get_exp_fvc_dict()\n",
        "train_table = table_data.get_train_table()\n",
        "\n",
        "# create exponent functiosn dict\n",
        "func_dict = {}\n",
        "for id in exp_dict:\n",
        "  i_week, i_fvc = table_data.get_initial_fvc(id)\n",
        "  func_dict[id] = predict.ExpFunc(i_fvc, exp_dict[id], i_week)\n"
      ],
      "execution_count": 4,
      "outputs": []
    },
    {
      "cell_type": "code",
      "metadata": {
        "id": "wgJov9--Arrb",
        "colab_type": "code",
        "colab": {}
      },
      "source": [
        "# plot one patient predicted graph\n",
        "exp_gen = predict.exponent_generator(IMAGES_GCS_PATH + '/train')\n",
        "\n",
        "# init plot\n",
        "ax, fig = plt.subplots(5, 2, figsize=(10, 40))\n",
        "\n",
        "# visualize prediction vs ground truth graphs\n",
        "for i, (id, exp_func) in exp_gen:\n",
        "  gt_func = func_dict[id]  # get ground truth function\n",
        "\n",
        "  # plot ground truth\n",
        "  visualize.plot_patient_exp(id, exp_function=gt_func, ax=ax[i//2, 0])\n",
        "  ax[i//2, 0].set_title(\"Ground truth\")\n",
        "\n",
        "  # plot prediction\n",
        "  visualize.plot_patient_exp(id, exp_function=exp_func, ax=ax[i//2, 1])\n",
        "  ax[i//2, 1].set_title(\"Prediction\")"
      ],
      "execution_count": null,
      "outputs": []
    },
    {
      "cell_type": "markdown",
      "metadata": {
        "id": "OtJumdAqu-a6",
        "colab_type": "text"
      },
      "source": [
        "# Check Laplace Log likelihood for predictions"
      ]
    },
    {
      "cell_type": "code",
      "metadata": {
        "id": "icdIO5h5GsUR",
        "colab_type": "code",
        "colab": {}
      },
      "source": [
        "import metrics\n",
        "\n",
        "def metric_check(func_dict, n_patients, inifinite=False, theta=150):\n",
        "    \"\"\"Average n_patients random train patients Laplace Log Likelihood score\"\"\"\n",
        "    scores = []\n",
        "\n",
        "    # get scores\n",
        "    for i, id in enumerate(func_dict):\n",
        "        func = func_dict[id]\n",
        "\n",
        "        # custom theta\n",
        "        if isinstance(theta, dict):\n",
        "          theta_now = theta[id]\n",
        "        else:\n",
        "          theta_now = theta\n",
        "        score = metrics.get_lll_value_exp_function(id, func, theta=theta_now)\n",
        "        scores.append(score)\n",
        "\n",
        "        # exit rule\n",
        "        if inifinite:\n",
        "            print(score) # for infinitely printing scores\n",
        "        else:\n",
        "            if i == n_patients - 1:\n",
        "                break\n",
        "\n",
        "    return sum(scores) / n_patients\n",
        "  \n",
        "  \n",
        "metric_check(func_dict, 170)"
      ],
      "execution_count": null,
      "outputs": []
    },
    {
      "cell_type": "markdown",
      "metadata": {
        "id": "G0wmnN-1yr8W",
        "colab_type": "text"
      },
      "source": [
        "# Check Laplace Log Lokilhood for ground truth coefficients"
      ]
    },
    {
      "cell_type": "markdown",
      "metadata": {
        "id": "LaX5NLQB7CjP",
        "colab_type": "text"
      },
      "source": [
        "## Thats pretty close to the metric value we get from the CNN predicting the exponential coefficients. Thus, we should persue other methods for improving the model other then improving the CNN."
      ]
    },
    {
      "cell_type": "markdown",
      "metadata": {
        "id": "zXAfVZWnL1-j",
        "colab_type": "text"
      },
      "source": [
        "# Check how much effect does theta have"
      ]
    },
    {
      "cell_type": "code",
      "metadata": {
        "id": "oPp9tb7MMCV7",
        "colab_type": "code",
        "colab": {}
      },
      "source": [
        "# get a very good theta \n",
        "theta_dict = {}\n",
        "weeks_dict = {} # for later use\n",
        "\n",
        "# iterate threw all train patients\n",
        "for id in func_dict:\n",
        "  hist = table_data.get_fvc_hist(train_table, id)\n",
        "  theta = np.abs(hist[\"FVC\"] - func_dict[id](hist[\"Weeks\"])) # compute theta as the absolute diff of a prediction from ground truth\n",
        "  theta_dict[id] = theta\n",
        "  weeks_dict[id] = hist[\"Weeks\"]\n",
        "\n",
        "metric_check(func_dict, 170, theta=theta_dict) # best theta possible"
      ],
      "execution_count": null,
      "outputs": []
    },
    {
      "cell_type": "markdown",
      "metadata": {
        "id": "65otL2Xv6k1x",
        "colab_type": "text"
      },
      "source": [
        "## So theta has a big inflence on the metric!\n",
        "~ Now lets see if there is any pattern in theta against week number"
      ]
    },
    {
      "cell_type": "code",
      "metadata": {
        "id": "pHldMAfW8Kzx",
        "colab_type": "code",
        "colab": {}
      },
      "source": [
        "import math\n",
        "N_SAMPLES = 10\n",
        "\n",
        "# initiate plot\n",
        "n_rows = math.ceil(N_SAMPLES / 5)\n",
        "n_cols = 5\n",
        "fig, ax = plt.subplots(n_rows, n_cols, figsize=(20, 5 * n_rows))\n",
        "\n",
        "\n",
        "# plot\n",
        "for plot in range(N_SAMPLES):\n",
        "  id = np.random.choice(list(theta_dict)) # generate random sample\n",
        "\n",
        "  # get data\n",
        "  theta = theta_dict[id]\n",
        "  weeks = weeks_dict[id]\n",
        "\n",
        "  # plot theta\n",
        "  ax[plot // 5, plot % 5].plot(weeks, theta)\n",
        "\n",
        "plt.show()"
      ],
      "execution_count": null,
      "outputs": []
    },
    {
      "cell_type": "markdown",
      "metadata": {
        "id": "zDyxzOtsHHMn",
        "colab_type": "text"
      },
      "source": [
        "# Plot n_samples of ground truth exponent functions"
      ]
    },
    {
      "cell_type": "code",
      "metadata": {
        "id": "dRGCj_dTHH9Y",
        "colab_type": "code",
        "colab": {}
      },
      "source": [
        "N_SAMPLES = 10\n",
        "\n",
        "# plot\n",
        "plt.figure(figsize=(20, 5))\n",
        "for plot in range(N_SAMPLES):\n",
        "  id = np.random.choice(list(func_dict))\n",
        "  func = func_dict[id]\n",
        "  visualize.plot_patient_exp(id, exp_function=func)"
      ],
      "execution_count": null,
      "outputs": []
    },
    {
      "cell_type": "markdown",
      "metadata": {
        "id": "aKm5cNExVUtP",
        "colab_type": "text"
      },
      "source": [
        "# Exemine outliers\n",
        "## Plot 12 FVC diagrams and the cooks distance for every point"
      ]
    },
    {
      "cell_type": "code",
      "metadata": {
        "id": "vvWzP5tSzP5a",
        "colab_type": "code",
        "colab": {}
      },
      "source": [
        "from statsmodels.formula.api import ols\n",
        "N_SAMPLES = 12\n",
        "\n",
        "# initiate plot\n",
        "n_rows = math.ceil(N_SAMPLES / 3)\n",
        "n_cols = 3\n",
        "fig, ax = plt.subplots(n_rows, n_cols, figsize=(30, 8 * n_rows))\n",
        "\n",
        "for plot in range(N_SAMPLES):\n",
        "  id = np.random.choice(train_table[\"Patient\"].unique())  # select a random sample\n",
        "  hist = table_data.get_fvc_hist(train_table, id)\n",
        "\n",
        "  # get cooks distance\n",
        "  m = ols(\"FVC ~ Weeks\", hist).fit() # fit a statsmodels ols\n",
        "  infl = m.get_influence() # check influens on every point\n",
        "  cooks_dists = infl.summary_frame()[\"cooks_d\"] # show cooks distance for every point\n",
        "  # plot\n",
        "  visualize.plot_patient_exp(id, func_dict[id], ax=ax[plot//3, plot % 3])\n",
        "  ax[plot//3, plot%3].set_title(id)\n",
        "  \n",
        "  # anotetae cooks distance\n",
        "  for i, dist in enumerate(cooks_dists):\n",
        "    ax[plot//3, plot%3].annotate('{0:.2f}'.format(dist), (hist[\"Weeks\"].iloc[i], hist[\"FVC\"].iloc[i]))\n",
        "\n",
        "plt.show()"
      ],
      "execution_count": null,
      "outputs": []
    },
    {
      "cell_type": "markdown",
      "metadata": {
        "id": "lrH2wC68K576",
        "colab_type": "text"
      },
      "source": [
        "## Now lets try to remove from each graph the point with the largest cooks distance which is not the first or the last point"
      ]
    },
    {
      "cell_type": "code",
      "metadata": {
        "id": "0VKBGY9yLGvC",
        "colab_type": "code",
        "colab": {}
      },
      "source": [
        "def get_cooks_distance(observations):\n",
        "  \"\"\"Return the cooks distance of every point in observations\"\"\"\n",
        "  x, y = observations.columns  # get predictor and response variable\n",
        "\n",
        "  m = ols(\"{} ~ {}\".format(x, y), observations).fit() # fit a statsmodels ols\n",
        "  infl = m.get_influence() # check influens on every point\n",
        "  cooks_dists = infl.summary_frame()[\"cooks_d\"] # show cooks distance for every poin\n",
        "\n",
        "  return cooks_dists\n",
        "\n",
        "\n",
        "def remove_outlier(fvc_hist):\n",
        "  \"\"\"Remove the point with the largest cooks distance from the fvc observations. Do not remove the first nor the last point\"\"\"\n",
        "  max_ind = get_cooks_distance(fvc_hist)[1:-1].argmax() # remove first and last\n",
        "  fvc_hist = fvc_hist.reset_index(drop=True)\n",
        "  return fvc_hist.drop(max_ind, axis=0)\n",
        "\n",
        "\n",
        "def get_patient_fvc_exp(hist):\n",
        "    \"\"\"Get a patient exponential coefficient.\n",
        "    Each patient has his own fvc progression that can be described by Ie^-kt.\n",
        "    Wheres I is the initial FCV measure, k is the exponential coefficient and t is time.\n",
        "    Args:\n",
        "        table--data table with records\n",
        "    \"\"\"\n",
        "\n",
        "    # compute logs\n",
        "    weeks = hist[\"Weeks\"]\n",
        "    log_fvc = np.log(hist[\"FVC\"])\n",
        "\n",
        "    # center weeks - set 0 for first measurement\n",
        "    weeks = weeks - hist.iloc[0, 0]\n",
        "\n",
        "    # regress to find logI -kt\n",
        "    neg_k, logI = np.polyfit(weeks, log_fvc, deg=1)\n",
        "\n",
        "    return -neg_k"
      ],
      "execution_count": null,
      "outputs": []
    },
    {
      "cell_type": "code",
      "metadata": {
        "id": "t-5uLkWHQLwS",
        "colab_type": "code",
        "colab": {}
      },
      "source": [
        "# ID00408637202308839708961\n",
        "id = \"ID00219637202258203123958\"\n",
        "visualize.plot_patient_exp(id, exp_function=func_dict[id])\n",
        "hist = table_data.get_fvc_hist(train_table, id)\n",
        "\n",
        "# remove outliers\n",
        "hist_corrected = remove_outlier(hist)\n",
        "\n",
        "\n",
        "# fit second exponent\n",
        "i_week, i_fvc = table_data.get_initial_fvc(id)\n",
        "k = get_patient_fvc_exp(hist_corrected)\n",
        "\n",
        "new_exp = predict.ExpFunc(i_fvc, k, i_week)\n",
        "\n",
        "visualize.plot_patient_exp(id, exp_function=new_exp)\n"
      ],
      "execution_count": null,
      "outputs": []
    },
    {
      "cell_type": "markdown",
      "metadata": {
        "id": "i33W4UR-scvP",
        "colab_type": "text"
      },
      "source": [
        "## It seems that every datapoint is cruical for fitting the exponent fucntion.."
      ]
    },
    {
      "cell_type": "code",
      "metadata": {
        "id": "6D-xCjAKPda_",
        "colab_type": "code",
        "colab": {}
      },
      "source": [
        "id = np.random.choice(list(func_dict))\n",
        "visualize.plot_patient_exp(id, exp_function=func_dict[id])\n",
        "print(id)"
      ],
      "execution_count": null,
      "outputs": []
    },
    {
      "cell_type": "markdown",
      "metadata": {
        "id": "hRygEY3eCOGa",
        "colab_type": "text"
      },
      "source": [
        "# Case study: Patient \"ID00007637202177411956430\""
      ]
    },
    {
      "cell_type": "code",
      "metadata": {
        "id": "KaxGeWbhCNKs",
        "colab_type": "code",
        "colab": {}
      },
      "source": [
        "# visualize fvc\n",
        "visualize.plot_patient_exp(\"ID00007637202177411956430\")"
      ],
      "execution_count": null,
      "outputs": []
    },
    {
      "cell_type": "code",
      "metadata": {
        "id": "ops2V_W6FAqm",
        "colab_type": "code",
        "colab": {}
      },
      "source": [
        "# visualize log of exp\n",
        "hist = table_data.get_fvc_hist(train_table, \"ID00007637202177411956430\") # get hist\n",
        "log_fvc = np.log(hist[\"FVC\"])\n",
        "plt.scatter(hist[\"Weeks\"], log_fvc)"
      ],
      "execution_count": null,
      "outputs": []
    },
    {
      "cell_type": "code",
      "metadata": {
        "id": "HZzg7a_dVB2_",
        "colab_type": "code",
        "colab": {}
      },
      "source": [
        "# show cooks distance\n",
        "log_hist = hist.copy()\n",
        "log_hist[\"FVC\"] = log_fvc\n",
        "m = ols(\"FVC ~ Weeks\", log_hist).fit() # fit ols\n",
        "infl = m.get_influence()\n",
        "cooks_d = infl.summary_frame()[\"cooks_d\"]\n",
        "print(cooks_d)"
      ],
      "execution_count": null,
      "outputs": []
    },
    {
      "cell_type": "code",
      "metadata": {
        "id": "-8bLwzACDYYl",
        "colab_type": "code",
        "colab": {}
      },
      "source": [
        "points = np.linspace(1, 50, 25)\n",
        "y = [np.exp(-0.05 * point) for point in points]\n",
        "print(y)\n",
        "plt.scatter(points, y)"
      ],
      "execution_count": null,
      "outputs": []
    },
    {
      "cell_type": "code",
      "metadata": {
        "id": "VYxot9gqDjcH",
        "colab_type": "code",
        "colab": {}
      },
      "source": [
        "plt.scatter(points, np.log(y))"
      ],
      "execution_count": null,
      "outputs": []
    }
  ]
}