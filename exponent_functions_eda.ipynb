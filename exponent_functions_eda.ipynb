{
  "nbformat": 4,
  "nbformat_minor": 0,
  "metadata": {
    "colab": {
      "name": "exponent_functions_eda.ipynb",
      "provenance": []
    },
    "kernelspec": {
      "name": "python3",
      "display_name": "Python 3"
    }
  },
  "cells": [
    {
      "cell_type": "code",
      "metadata": {
        "id": "JeSJQsTK99Jc",
        "colab_type": "code",
        "colab": {}
      },
      "source": [
        "# imports \n",
        "import tensorflow as tf\n",
        "import numpy as np\n",
        "import matplotlib.pyplot as plt"
      ],
      "execution_count": null,
      "outputs": []
    },
    {
      "cell_type": "code",
      "metadata": {
        "id": "JyJdgXOMAb1G",
        "colab_type": "code",
        "colab": {
          "base_uri": "https://localhost:8080/",
          "height": 143
        },
        "outputId": "27f3b17c-74d3-4f33-bb1e-0ebe4268e32e"
      },
      "source": [
        "# clone and copy repository\n",
        "!git clone https://github.com/omerhac/osic-fibrosis.git\n",
        "!cp -r osic-fibrosis/* ./"
      ],
      "execution_count": 1,
      "outputs": [
        {
          "output_type": "stream",
          "text": [
            "Cloning into 'osic-fibrosis'...\n",
            "remote: Enumerating objects: 333, done.\u001b[K\n",
            "remote: Counting objects: 100% (333/333), done.\u001b[K\n",
            "remote: Compressing objects: 100% (201/201), done.\u001b[K\n",
            "remote: Total 333 (delta 205), reused 247 (delta 122), pack-reused 0\u001b[K\n",
            "Receiving objects: 100% (333/333), 54.93 MiB | 31.09 MiB/s, done.\n",
            "Resolving deltas: 100% (205/205), done.\n"
          ],
          "name": "stdout"
        }
      ]
    },
    {
      "cell_type": "code",
      "metadata": {
        "id": "wgJov9--Arrb",
        "colab_type": "code",
        "colab": {}
      },
      "source": [
        "import predict \n",
        "import visualize\n"
      ],
      "execution_count": 5,
      "outputs": []
    }
  ]
}