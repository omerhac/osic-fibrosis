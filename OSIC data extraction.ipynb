{
 "cells": [
  {
   "cell_type": "code",
   "execution_count": 1,
   "metadata": {},
   "outputs": [],
   "source": [
    "import os\n",
    "import glob\n",
    "from fastai2.medical.imaging import *\n",
    "import matplotlib.pyplot as plt\n",
    "from tqdm import tqdm\n",
    "from PIL import Image\n",
    "import numpy as np"
   ]
  },
  {
   "cell_type": "code",
   "execution_count": 2,
   "metadata": {},
   "outputs": [],
   "source": [
    "PATH = \"/Users/nurithofesh/Desktop/omer/osic-pulmonary-fibrosis-progression/\""
   ]
  },
  {
   "cell_type": "code",
   "execution_count": 3,
   "metadata": {},
   "outputs": [],
   "source": [
    "# get files paths\n",
    "train_filepaths = glob.glob(PATH + 'train/*/*')\n",
    "test_filepaths= glob.glob(PATH + 'test/*/*')"
   ]
  },
  {
   "cell_type": "code",
   "execution_count": 4,
   "metadata": {},
   "outputs": [],
   "source": [
    "TRAIN_SAVE_PATH = \"/Users/nurithofesh/Desktop/omer/osic-pulmonary-fibrosis-progression/images/train/\"\n",
    "TEST_SAVE_PATH = \"/Users/nurithofesh/Desktop/omer/osic-pulmonary-fibrosis-progression/images/test/\""
   ]
  },
  {
   "cell_type": "code",
   "execution_count": 5,
   "metadata": {},
   "outputs": [],
   "source": [
    "def rescale_image(image):\n",
    "    # rescales an image to 256\n",
    "    rescaled_image = (((image + 1024) / 3024))\n",
    "    return rescaled_image"
   ]
  },
  {
   "cell_type": "markdown",
   "metadata": {},
   "source": [
    "# Extract train images"
   ]
  },
  {
   "cell_type": "code",
   "execution_count": 6,
   "metadata": {},
   "outputs": [
    {
     "name": "stderr",
     "output_type": "stream",
     "text": [
      "100%|██████████| 33026/33026 [17:26<00:00, 31.56it/s]\n"
     ]
    }
   ],
   "source": [
    "prob_with_loading = [] # catches the problematic files\n",
    "\n",
    "# extract images from every dcm file of train images\n",
    "for filepath in tqdm(train_filepaths):\n",
    "    \n",
    "    # get id from path\n",
    "    ID = os.path.basename(os.path.dirname(filepath))\n",
    "    \n",
    "    # load dcm\n",
    "    try:\n",
    "        dcm_file = dcmread(filepath)\n",
    "        pix_array = dcm_file.pixel_array\n",
    "\n",
    "        # make directories\n",
    "        os.makedirs(TRAIN_SAVE_PATH + ID, exist_ok=True)\n",
    "\n",
    "        # save image\n",
    "        plt.imsave(TRAIN_SAVE_PATH +  ID + '/' + os.path.splitext(os.path.basename(filepath))[0] + '.jpeg', pix_array, vmin=-1024, vmax=2000)\n",
    "        \n",
    "    except:\n",
    "        prob_with_loading.append(filepath)\n"
   ]
  },
  {
   "cell_type": "code",
   "execution_count": 7,
   "metadata": {},
   "outputs": [
    {
     "name": "stdout",
     "output_type": "stream",
     "text": [
      "32\n"
     ]
    }
   ],
   "source": [
    "print(len(prob_with_loading))"
   ]
  },
  {
   "cell_type": "code",
   "execution_count": 8,
   "metadata": {},
   "outputs": [
    {
     "data": {
      "text/plain": [
       "['/Users/nurithofesh/Desktop/omer/osic-pulmonary-fibrosis-progression/train/ID00011637202177653955184/16.dcm',\n",
       " '/Users/nurithofesh/Desktop/omer/osic-pulmonary-fibrosis-progression/train/ID00011637202177653955184/17.dcm',\n",
       " '/Users/nurithofesh/Desktop/omer/osic-pulmonary-fibrosis-progression/train/ID00011637202177653955184/15.dcm',\n",
       " '/Users/nurithofesh/Desktop/omer/osic-pulmonary-fibrosis-progression/train/ID00011637202177653955184/29.dcm',\n",
       " '/Users/nurithofesh/Desktop/omer/osic-pulmonary-fibrosis-progression/train/ID00011637202177653955184/28.dcm',\n",
       " '/Users/nurithofesh/Desktop/omer/osic-pulmonary-fibrosis-progression/train/ID00011637202177653955184/14.dcm',\n",
       " '/Users/nurithofesh/Desktop/omer/osic-pulmonary-fibrosis-progression/train/ID00011637202177653955184/10.dcm',\n",
       " '/Users/nurithofesh/Desktop/omer/osic-pulmonary-fibrosis-progression/train/ID00011637202177653955184/11.dcm',\n",
       " '/Users/nurithofesh/Desktop/omer/osic-pulmonary-fibrosis-progression/train/ID00011637202177653955184/13.dcm',\n",
       " '/Users/nurithofesh/Desktop/omer/osic-pulmonary-fibrosis-progression/train/ID00011637202177653955184/12.dcm',\n",
       " '/Users/nurithofesh/Desktop/omer/osic-pulmonary-fibrosis-progression/train/ID00011637202177653955184/9.dcm',\n",
       " '/Users/nurithofesh/Desktop/omer/osic-pulmonary-fibrosis-progression/train/ID00011637202177653955184/8.dcm',\n",
       " '/Users/nurithofesh/Desktop/omer/osic-pulmonary-fibrosis-progression/train/ID00011637202177653955184/6.dcm',\n",
       " '/Users/nurithofesh/Desktop/omer/osic-pulmonary-fibrosis-progression/train/ID00011637202177653955184/7.dcm',\n",
       " '/Users/nurithofesh/Desktop/omer/osic-pulmonary-fibrosis-progression/train/ID00011637202177653955184/5.dcm',\n",
       " '/Users/nurithofesh/Desktop/omer/osic-pulmonary-fibrosis-progression/train/ID00011637202177653955184/4.dcm',\n",
       " '/Users/nurithofesh/Desktop/omer/osic-pulmonary-fibrosis-progression/train/ID00011637202177653955184/1.dcm',\n",
       " '/Users/nurithofesh/Desktop/omer/osic-pulmonary-fibrosis-progression/train/ID00011637202177653955184/3.dcm',\n",
       " '/Users/nurithofesh/Desktop/omer/osic-pulmonary-fibrosis-progression/train/ID00011637202177653955184/2.dcm',\n",
       " '/Users/nurithofesh/Desktop/omer/osic-pulmonary-fibrosis-progression/train/ID00011637202177653955184/23.dcm',\n",
       " '/Users/nurithofesh/Desktop/omer/osic-pulmonary-fibrosis-progression/train/ID00011637202177653955184/22.dcm',\n",
       " '/Users/nurithofesh/Desktop/omer/osic-pulmonary-fibrosis-progression/train/ID00011637202177653955184/20.dcm',\n",
       " '/Users/nurithofesh/Desktop/omer/osic-pulmonary-fibrosis-progression/train/ID00011637202177653955184/21.dcm',\n",
       " '/Users/nurithofesh/Desktop/omer/osic-pulmonary-fibrosis-progression/train/ID00011637202177653955184/19.dcm',\n",
       " '/Users/nurithofesh/Desktop/omer/osic-pulmonary-fibrosis-progression/train/ID00011637202177653955184/31.dcm',\n",
       " '/Users/nurithofesh/Desktop/omer/osic-pulmonary-fibrosis-progression/train/ID00011637202177653955184/25.dcm',\n",
       " '/Users/nurithofesh/Desktop/omer/osic-pulmonary-fibrosis-progression/train/ID00011637202177653955184/24.dcm',\n",
       " '/Users/nurithofesh/Desktop/omer/osic-pulmonary-fibrosis-progression/train/ID00011637202177653955184/30.dcm',\n",
       " '/Users/nurithofesh/Desktop/omer/osic-pulmonary-fibrosis-progression/train/ID00011637202177653955184/18.dcm',\n",
       " '/Users/nurithofesh/Desktop/omer/osic-pulmonary-fibrosis-progression/train/ID00011637202177653955184/26.dcm',\n",
       " '/Users/nurithofesh/Desktop/omer/osic-pulmonary-fibrosis-progression/train/ID00011637202177653955184/27.dcm',\n",
       " '/Users/nurithofesh/Desktop/omer/osic-pulmonary-fibrosis-progression/train/ID00052637202186188008618/4.dcm']"
      ]
     },
     "execution_count": 8,
     "metadata": {},
     "output_type": "execute_result"
    }
   ],
   "source": [
    "prob_with_loading"
   ]
  },
  {
   "cell_type": "markdown",
   "metadata": {},
   "source": []
  },
  {
   "cell_type": "code",
   "execution_count": null,
   "metadata": {},
   "outputs": [],
   "source": [
    "prob_with_loading = [] # catches the problematic files\n",
    "\n",
    "# extract images from every dcm file of train images\n",
    "for filepath in tqdm(test_filepaths):\n",
    "    \n",
    "    # get id from path\n",
    "    ID = os.path.basename(os.path.dirname(filepath))\n",
    "    \n",
    "    # load dcm\n",
    "    try:\n",
    "        dcm_file = dcmread(filepath)\n",
    "        pix_array = dcm_file.pixel_array\n",
    "\n",
    "        # make directories\n",
    "        os.makedirs(TEST_SAVE_PATH + ID, exist_ok=True)\n",
    "\n",
    "        # save image\n",
    "        plt.imsave(TEST_SAVE_PATH +  ID + '/' + os.path.splitext(os.path.basename(filepath))[0] + '.jpeg', pix_array, vmin=-1024, vmax=2000)\n",
    "        \n",
    "    except:\n",
    "        prob_with_loading.append(filepath)\n",
    "\n"
   ]
  }
 ],
 "metadata": {
  "kernelspec": {
   "display_name": "Python 3",
   "language": "python",
   "name": "python3"
  },
  "language_info": {
   "codemirror_mode": {
    "name": "ipython",
    "version": 3
   },
   "file_extension": ".py",
   "mimetype": "text/x-python",
   "name": "python",
   "nbconvert_exporter": "python",
   "pygments_lexer": "ipython3",
   "version": "3.7.3"
  }
 },
 "nbformat": 4,
 "nbformat_minor": 2
}
